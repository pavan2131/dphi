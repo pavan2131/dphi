{
  "nbformat": 4,
  "nbformat_minor": 0,
  "metadata": {
    "colab": {
      "name": "assignment1.ipynb",
      "provenance": [],
      "collapsed_sections": [],
      "authorship_tag": "ABX9TyM16vzfZkRavkAgN1zCDSsX",
      "include_colab_link": true
    },
    "kernelspec": {
      "name": "python3",
      "display_name": "Python 3"
    }
  },
  "cells": [
    {
      "cell_type": "markdown",
      "metadata": {
        "id": "view-in-github",
        "colab_type": "text"
      },
      "source": [
        "<a href=\"https://colab.research.google.com/github/pavan2131/dphi/blob/master/assignment1.ipynb\" target=\"_parent\"><img src=\"https://colab.research.google.com/assets/colab-badge.svg\" alt=\"Open In Colab\"/></a>"
      ]
    },
    {
      "cell_type": "code",
      "metadata": {
        "id": "vpvaF953iqrl",
        "colab_type": "code",
        "colab": {}
      },
      "source": [
        "import numpy as np \n",
        "import pandas as pd \n",
        "import matplotlib.pyplot as plt"
      ],
      "execution_count": null,
      "outputs": []
    },
    {
      "cell_type": "code",
      "metadata": {
        "id": "VIc3aEvokIFN",
        "colab_type": "code",
        "colab": {}
      },
      "source": [
        "bank_note_data = pd.read_csv(\"https://raw.githubusercontent.com/dphi-official/Datasets/master/bank_note_data/training_set_label.csv\" )"
      ],
      "execution_count": null,
      "outputs": []
    },
    {
      "cell_type": "code",
      "metadata": {
        "id": "UcSbhKYxkkji",
        "colab_type": "code",
        "colab": {
          "base_uri": "https://localhost:8080/",
          "height": 204
        },
        "outputId": "29819b4c-fb27-4564-90dc-bd9e7035983c"
      },
      "source": [
        "bank_note_data.head()"
      ],
      "execution_count": null,
      "outputs": [
        {
          "output_type": "execute_result",
          "data": {
            "text/html": [
              "<div>\n",
              "<style scoped>\n",
              "    .dataframe tbody tr th:only-of-type {\n",
              "        vertical-align: middle;\n",
              "    }\n",
              "\n",
              "    .dataframe tbody tr th {\n",
              "        vertical-align: top;\n",
              "    }\n",
              "\n",
              "    .dataframe thead th {\n",
              "        text-align: right;\n",
              "    }\n",
              "</style>\n",
              "<table border=\"1\" class=\"dataframe\">\n",
              "  <thead>\n",
              "    <tr style=\"text-align: right;\">\n",
              "      <th></th>\n",
              "      <th>VWTI</th>\n",
              "      <th>SWTI</th>\n",
              "      <th>CWTI</th>\n",
              "      <th>EI</th>\n",
              "      <th>Class</th>\n",
              "    </tr>\n",
              "  </thead>\n",
              "  <tbody>\n",
              "    <tr>\n",
              "      <th>0</th>\n",
              "      <td>2.2634</td>\n",
              "      <td>-4.4862</td>\n",
              "      <td>3.6558</td>\n",
              "      <td>-0.612510</td>\n",
              "      <td>0</td>\n",
              "    </tr>\n",
              "    <tr>\n",
              "      <th>1</th>\n",
              "      <td>3.2718</td>\n",
              "      <td>1.7837</td>\n",
              "      <td>2.1161</td>\n",
              "      <td>0.613340</td>\n",
              "      <td>0</td>\n",
              "    </tr>\n",
              "    <tr>\n",
              "      <th>2</th>\n",
              "      <td>-3.9411</td>\n",
              "      <td>-12.8792</td>\n",
              "      <td>13.0597</td>\n",
              "      <td>-3.312500</td>\n",
              "      <td>1</td>\n",
              "    </tr>\n",
              "    <tr>\n",
              "      <th>3</th>\n",
              "      <td>0.5195</td>\n",
              "      <td>-3.2633</td>\n",
              "      <td>3.0895</td>\n",
              "      <td>-0.984900</td>\n",
              "      <td>0</td>\n",
              "    </tr>\n",
              "    <tr>\n",
              "      <th>4</th>\n",
              "      <td>2.5698</td>\n",
              "      <td>-4.4076</td>\n",
              "      <td>5.9856</td>\n",
              "      <td>0.078002</td>\n",
              "      <td>0</td>\n",
              "    </tr>\n",
              "  </tbody>\n",
              "</table>\n",
              "</div>"
            ],
            "text/plain": [
              "     VWTI     SWTI     CWTI        EI  Class\n",
              "0  2.2634  -4.4862   3.6558 -0.612510      0\n",
              "1  3.2718   1.7837   2.1161  0.613340      0\n",
              "2 -3.9411 -12.8792  13.0597 -3.312500      1\n",
              "3  0.5195  -3.2633   3.0895 -0.984900      0\n",
              "4  2.5698  -4.4076   5.9856  0.078002      0"
            ]
          },
          "metadata": {
            "tags": []
          },
          "execution_count": 5
        }
      ]
    },
    {
      "cell_type": "code",
      "metadata": {
        "id": "daPvoc2cqzeV",
        "colab_type": "code",
        "colab": {
          "base_uri": "https://localhost:8080/",
          "height": 34
        },
        "outputId": "fe5b102e-f619-446f-e775-d145ce60804f"
      },
      "source": [
        "bank_note_data.shape"
      ],
      "execution_count": null,
      "outputs": [
        {
          "output_type": "execute_result",
          "data": {
            "text/plain": [
              "(1096, 5)"
            ]
          },
          "metadata": {
            "tags": []
          },
          "execution_count": 6
        }
      ]
    },
    {
      "cell_type": "code",
      "metadata": {
        "id": "xKV_V1f_klpI",
        "colab_type": "code",
        "colab": {}
      },
      "source": [
        "x = bank_note_data.drop('Class', axis = 1)\n",
        "y = bank_note_data['Class'] "
      ],
      "execution_count": null,
      "outputs": []
    },
    {
      "cell_type": "code",
      "metadata": {
        "id": "Amvr_baLklxj",
        "colab_type": "code",
        "colab": {}
      },
      "source": [
        "from sklearn.model_selection import train_test_split \n",
        "X_train, X_test, y_train, y_test = train_test_split(x, y, test_size=0.2, random_state=42)\n"
      ],
      "execution_count": null,
      "outputs": []
    },
    {
      "cell_type": "code",
      "metadata": {
        "id": "vCXif62crEkv",
        "colab_type": "code",
        "colab": {
          "base_uri": "https://localhost:8080/",
          "height": 34
        },
        "outputId": "497a0333-9e12-4dd4-e4f0-61d277c6295d"
      },
      "source": [
        "X_train.shape[1]"
      ],
      "execution_count": null,
      "outputs": [
        {
          "output_type": "execute_result",
          "data": {
            "text/plain": [
              "4"
            ]
          },
          "metadata": {
            "tags": []
          },
          "execution_count": 9
        }
      ]
    },
    {
      "cell_type": "code",
      "metadata": {
        "id": "iKYXJhEokl5e",
        "colab_type": "code",
        "colab": {}
      },
      "source": [
        "import tensorflow as tf \n",
        "from tensorflow import keras \n",
        "\n",
        "from tensorflow.keras import Sequential \n",
        "from tensorflow.keras import layers\n",
        "from tensorflow.keras.layers import Dense"
      ],
      "execution_count": null,
      "outputs": []
    },
    {
      "cell_type": "code",
      "metadata": {
        "id": "jL96IZZckmu3",
        "colab_type": "code",
        "colab": {}
      },
      "source": [
        "model = Sequential()\n",
        "model.add(Dense(32, activation='relu', input_shape=(X_train.shape[1],)))   \n",
        "model.add(Dense(16, activation='relu'))\n",
        "model.add(Dense(8, activation='relu'))\n",
        "model.add(Dense(1, activation='sigmoid'))                                  "
      ],
      "execution_count": null,
      "outputs": []
    },
    {
      "cell_type": "code",
      "metadata": {
        "id": "Zhm_sGpzkm24",
        "colab_type": "code",
        "colab": {}
      },
      "source": [
        "from tensorflow.keras.optimizers import RMSprop\n",
        "optimizer = RMSprop(0.001)  \n",
        "model.compile(loss='binary_crossentropy', optimizer= optimizer , metrics=['accuracy'])"
      ],
      "execution_count": null,
      "outputs": []
    },
    {
      "cell_type": "code",
      "metadata": {
        "id": "vQtJ7oSvrr3K",
        "colab_type": "code",
        "colab": {
          "base_uri": "https://localhost:8080/",
          "height": 289
        },
        "outputId": "aada93c8-a31e-48e5-b7b4-172ca526ccad"
      },
      "source": [
        "model.summary()"
      ],
      "execution_count": null,
      "outputs": [
        {
          "output_type": "stream",
          "text": [
            "Model: \"sequential\"\n",
            "_________________________________________________________________\n",
            "Layer (type)                 Output Shape              Param #   \n",
            "=================================================================\n",
            "dense (Dense)                (None, 32)                160       \n",
            "_________________________________________________________________\n",
            "dense_1 (Dense)              (None, 16)                528       \n",
            "_________________________________________________________________\n",
            "dense_2 (Dense)              (None, 8)                 136       \n",
            "_________________________________________________________________\n",
            "dense_3 (Dense)              (None, 1)                 9         \n",
            "=================================================================\n",
            "Total params: 833\n",
            "Trainable params: 833\n",
            "Non-trainable params: 0\n",
            "_________________________________________________________________\n"
          ],
          "name": "stdout"
        }
      ]
    },
    {
      "cell_type": "code",
      "metadata": {
        "id": "ozpkXjM6r5vj",
        "colab_type": "code",
        "colab": {
          "base_uri": "https://localhost:8080/",
          "height": 466
        },
        "outputId": "150e7ebe-6277-4889-831e-84f1e22eba8d"
      },
      "source": [
        "from tensorflow.keras.utils import plot_model\n",
        "plot_model(model)"
      ],
      "execution_count": null,
      "outputs": [
        {
          "output_type": "execute_result",
          "data": {
            "image/png": "[encoded data removed]",
            "text/plain": [
              "<IPython.core.display.Image object>"
            ]
          },
          "metadata": {
            "tags": []
          },
          "execution_count": 14
        }
      ]
    },
    {
      "cell_type": "code",
      "metadata": {
        "id": "iW4RdJ9_km8z",
        "colab_type": "code",
        "colab": {
          "base_uri": "https://localhost:8080/",
          "height": 1000
        },
        "outputId": "04d518f8-98d7-4d5c-f6f9-7f8b70d31ab2"
      },
      "source": [
        "history = model.fit(X_train, y_train, validation_split=0.2, epochs=200, batch_size=10, verbose=1)"
      ],
      "execution_count": null,
      "outputs": [
        {
          "output_type": "stream",
          "text": [
            "Epoch 1/200\n",
            "70/70 [==============================] - 0s 4ms/step - loss: 0.3974 - accuracy: 0.8229 - val_loss: 0.2078 - val_accuracy: 0.9773\n",
            "Epoch 2/200\n",
            "70/70 [==============================] - 0s 1ms/step - loss: 0.1253 - accuracy: 0.9914 - val_loss: 0.0559 - val_accuracy: 0.9886\n",
            "Epoch 3/200\n",
            "70/70 [==============================] - 0s 1ms/step - loss: 0.0373 - accuracy: 0.9971 - val_loss: 0.0195 - val_accuracy: 1.0000\n",
            "Epoch 4/200\n",
            "70/70 [==============================] - 0s 1ms/step - loss: 0.0144 - accuracy: 1.0000 - val_loss: 0.0086 - val_accuracy: 1.0000\n",
            "Epoch 5/200\n",
            "70/70 [==============================] - 0s 1ms/step - loss: 0.0071 - accuracy: 1.0000 - val_loss: 0.0042 - val_accuracy: 1.0000\n",
            "Epoch 6/200\n",
            "70/70 [==============================] - 0s 1ms/step - loss: 0.0039 - accuracy: 1.0000 - val_loss: 0.0022 - val_accuracy: 1.0000\n",
            "Epoch 7/200\n",
            "70/70 [==============================] - 0s 1ms/step - loss: 0.0024 - accuracy: 1.0000 - val_loss: 0.0012 - val_accuracy: 1.0000\n",
            "Epoch 8/200\n",
            "70/70 [==============================] - 0s 1ms/step - loss: 0.0014 - accuracy: 1.0000 - val_loss: 9.4112e-04 - val_accuracy: 1.0000\n",
            "Epoch 9/200\n",
            "70/70 [==============================] - 0s 2ms/step - loss: 0.0012 - accuracy: 1.0000 - val_loss: 4.7295e-04 - val_accuracy: 1.0000\n",
            "Epoch 10/200\n",
            "70/70 [==============================] - 0s 2ms/step - loss: 5.8328e-04 - accuracy: 1.0000 - val_loss: 2.4853e-04 - val_accuracy: 1.0000\n",
            "Epoch 11/200\n",
            "70/70 [==============================] - 0s 2ms/step - loss: 4.1645e-04 - accuracy: 1.0000 - val_loss: 2.2077e-04 - val_accuracy: 1.0000\n",
            "Epoch 12/200\n",
            "70/70 [==============================] - 0s 1ms/step - loss: 2.4766e-04 - accuracy: 1.0000 - val_loss: 1.2437e-04 - val_accuracy: 1.0000\n",
            "Epoch 13/200\n",
            "70/70 [==============================] - 0s 1ms/step - loss: 1.7617e-04 - accuracy: 1.0000 - val_loss: 4.5527e-05 - val_accuracy: 1.0000\n",
            "Epoch 14/200\n",
            "70/70 [==============================] - 0s 1ms/step - loss: 6.8918e-05 - accuracy: 1.0000 - val_loss: 1.9888e-05 - val_accuracy: 1.0000\n",
            "Epoch 15/200\n",
            "70/70 [==============================] - 0s 1ms/step - loss: 5.7045e-05 - accuracy: 1.0000 - val_loss: 1.4214e-05 - val_accuracy: 1.0000\n",
            "Epoch 16/200\n",
            "70/70 [==============================] - 0s 2ms/step - loss: 3.6036e-05 - accuracy: 1.0000 - val_loss: 8.5356e-06 - val_accuracy: 1.0000\n",
            "Epoch 17/200\n",
            "70/70 [==============================] - 0s 1ms/step - loss: 1.7346e-05 - accuracy: 1.0000 - val_loss: 4.1161e-06 - val_accuracy: 1.0000\n",
            "Epoch 18/200\n",
            "70/70 [==============================] - 0s 2ms/step - loss: 1.5307e-05 - accuracy: 1.0000 - val_loss: 2.5259e-06 - val_accuracy: 1.0000\n",
            "Epoch 19/200\n",
            "70/70 [==============================] - 0s 2ms/step - loss: 8.3195e-06 - accuracy: 1.0000 - val_loss: 1.5192e-06 - val_accuracy: 1.0000\n",
            "Epoch 20/200\n",
            "70/70 [==============================] - 0s 2ms/step - loss: 4.4445e-06 - accuracy: 1.0000 - val_loss: 9.0093e-07 - val_accuracy: 1.0000\n",
            "Epoch 21/200\n",
            "70/70 [==============================] - 0s 1ms/step - loss: 2.5482e-06 - accuracy: 1.0000 - val_loss: 4.0561e-07 - val_accuracy: 1.0000\n",
            "Epoch 22/200\n",
            "70/70 [==============================] - 0s 1ms/step - loss: 4.2297e-06 - accuracy: 1.0000 - val_loss: 3.0210e-07 - val_accuracy: 1.0000\n",
            "Epoch 23/200\n",
            "70/70 [==============================] - 0s 1ms/step - loss: 1.1801e-06 - accuracy: 1.0000 - val_loss: 1.9187e-07 - val_accuracy: 1.0000\n",
            "Epoch 24/200\n",
            "70/70 [==============================] - 0s 1ms/step - loss: 6.3198e-07 - accuracy: 1.0000 - val_loss: 8.8851e-08 - val_accuracy: 1.0000\n",
            "Epoch 25/200\n",
            "70/70 [==============================] - 0s 1ms/step - loss: 4.3686e-07 - accuracy: 1.0000 - val_loss: 2.2474e-07 - val_accuracy: 1.0000\n",
            "Epoch 26/200\n",
            "70/70 [==============================] - 0s 1ms/step - loss: 2.4937e-07 - accuracy: 1.0000 - val_loss: 3.4595e-08 - val_accuracy: 1.0000\n",
            "Epoch 27/200\n",
            "70/70 [==============================] - 0s 1ms/step - loss: 8.6586e-08 - accuracy: 1.0000 - val_loss: 2.6775e-08 - val_accuracy: 1.0000\n",
            "Epoch 28/200\n",
            "70/70 [==============================] - 0s 1ms/step - loss: 6.1939e-08 - accuracy: 1.0000 - val_loss: 1.4348e-07 - val_accuracy: 1.0000\n",
            "Epoch 29/200\n",
            "70/70 [==============================] - 0s 1ms/step - loss: 3.5730e-08 - accuracy: 1.0000 - val_loss: 6.8765e-09 - val_accuracy: 1.0000\n",
            "Epoch 30/200\n",
            "70/70 [==============================] - 0s 1ms/step - loss: 2.4793e-08 - accuracy: 1.0000 - val_loss: 6.5748e-09 - val_accuracy: 1.0000\n",
            "Epoch 31/200\n",
            "70/70 [==============================] - 0s 1ms/step - loss: 1.3586e-08 - accuracy: 1.0000 - val_loss: 5.1754e-09 - val_accuracy: 1.0000\n",
            "Epoch 32/200\n",
            "70/70 [==============================] - 0s 1ms/step - loss: 9.5671e-09 - accuracy: 1.0000 - val_loss: 4.6624e-09 - val_accuracy: 1.0000\n",
            "Epoch 33/200\n",
            "70/70 [==============================] - 0s 1ms/step - loss: 6.7307e-09 - accuracy: 1.0000 - val_loss: 6.0532e-09 - val_accuracy: 1.0000\n",
            "Epoch 34/200\n",
            "70/70 [==============================] - 0s 1ms/step - loss: 4.6842e-09 - accuracy: 1.0000 - val_loss: 4.1584e-09 - val_accuracy: 1.0000\n",
            "Epoch 35/200\n",
            "70/70 [==============================] - 0s 1ms/step - loss: 3.7353e-09 - accuracy: 1.0000 - val_loss: 7.5267e-09 - val_accuracy: 1.0000\n",
            "Epoch 36/200\n",
            "70/70 [==============================] - 0s 1ms/step - loss: 2.8133e-09 - accuracy: 1.0000 - val_loss: 4.7511e-09 - val_accuracy: 1.0000\n",
            "Epoch 37/200\n",
            "70/70 [==============================] - 0s 1ms/step - loss: 2.7596e-09 - accuracy: 1.0000 - val_loss: 7.7320e-09 - val_accuracy: 1.0000\n",
            "Epoch 38/200\n",
            "70/70 [==============================] - 0s 1ms/step - loss: 2.1201e-09 - accuracy: 1.0000 - val_loss: 6.4659e-09 - val_accuracy: 1.0000\n",
            "Epoch 39/200\n",
            "70/70 [==============================] - 0s 1ms/step - loss: 1.7689e-09 - accuracy: 1.0000 - val_loss: 5.2461e-09 - val_accuracy: 1.0000\n",
            "Epoch 40/200\n",
            "70/70 [==============================] - 0s 1ms/step - loss: 1.6080e-09 - accuracy: 1.0000 - val_loss: 1.3065e-08 - val_accuracy: 1.0000\n",
            "Epoch 41/200\n",
            "70/70 [==============================] - 0s 1ms/step - loss: 1.3733e-09 - accuracy: 1.0000 - val_loss: 4.6383e-09 - val_accuracy: 1.0000\n",
            "Epoch 42/200\n",
            "70/70 [==============================] - 0s 1ms/step - loss: 1.2019e-09 - accuracy: 1.0000 - val_loss: 3.0120e-09 - val_accuracy: 1.0000\n",
            "Epoch 43/200\n",
            "70/70 [==============================] - 0s 1ms/step - loss: 1.1612e-09 - accuracy: 1.0000 - val_loss: 2.5393e-09 - val_accuracy: 1.0000\n",
            "Epoch 44/200\n",
            "70/70 [==============================] - 0s 1ms/step - loss: 1.0796e-09 - accuracy: 1.0000 - val_loss: 2.3838e-09 - val_accuracy: 1.0000\n",
            "Epoch 45/200\n",
            "70/70 [==============================] - 0s 1ms/step - loss: 1.0421e-09 - accuracy: 1.0000 - val_loss: 4.8046e-09 - val_accuracy: 1.0000\n",
            "Epoch 46/200\n",
            "70/70 [==============================] - 0s 1ms/step - loss: 8.8928e-10 - accuracy: 1.0000 - val_loss: 3.3701e-09 - val_accuracy: 1.0000\n",
            "Epoch 47/200\n",
            "70/70 [==============================] - 0s 1ms/step - loss: 8.4767e-10 - accuracy: 1.0000 - val_loss: 3.1088e-09 - val_accuracy: 1.0000\n",
            "Epoch 48/200\n",
            "70/70 [==============================] - 0s 1ms/step - loss: 7.9241e-10 - accuracy: 1.0000 - val_loss: 2.3542e-09 - val_accuracy: 1.0000\n",
            "Epoch 49/200\n",
            "70/70 [==============================] - 0s 1ms/step - loss: 7.1151e-10 - accuracy: 1.0000 - val_loss: 2.0837e-09 - val_accuracy: 1.0000\n",
            "Epoch 50/200\n",
            "70/70 [==============================] - 0s 1ms/step - loss: 6.9874e-10 - accuracy: 1.0000 - val_loss: 2.0331e-09 - val_accuracy: 1.0000\n",
            "Epoch 51/200\n",
            "70/70 [==============================] - 0s 1ms/step - loss: 6.8112e-10 - accuracy: 1.0000 - val_loss: 1.9573e-09 - val_accuracy: 1.0000\n",
            "Epoch 52/200\n",
            "70/70 [==============================] - 0s 1ms/step - loss: 6.4827e-10 - accuracy: 1.0000 - val_loss: 1.7336e-09 - val_accuracy: 1.0000\n",
            "Epoch 53/200\n",
            "70/70 [==============================] - 0s 1ms/step - loss: 6.1602e-10 - accuracy: 1.0000 - val_loss: 1.9452e-09 - val_accuracy: 1.0000\n",
            "Epoch 54/200\n",
            "70/70 [==============================] - 0s 1ms/step - loss: 5.8227e-10 - accuracy: 1.0000 - val_loss: 1.5700e-09 - val_accuracy: 1.0000\n",
            "Epoch 55/200\n",
            "70/70 [==============================] - 0s 1ms/step - loss: 6.2974e-10 - accuracy: 1.0000 - val_loss: 1.6408e-09 - val_accuracy: 1.0000\n",
            "Epoch 56/200\n",
            "70/70 [==============================] - 0s 1ms/step - loss: 6.4996e-10 - accuracy: 1.0000 - val_loss: 1.4531e-09 - val_accuracy: 1.0000\n",
            "Epoch 57/200\n",
            "70/70 [==============================] - 0s 1ms/step - loss: 6.6978e-10 - accuracy: 1.0000 - val_loss: 2.9879e-09 - val_accuracy: 1.0000\n",
            "Epoch 58/200\n",
            "70/70 [==============================] - 0s 1ms/step - loss: 5.6155e-10 - accuracy: 1.0000 - val_loss: 2.1149e-09 - val_accuracy: 1.0000\n",
            "Epoch 59/200\n",
            "70/70 [==============================] - 0s 1ms/step - loss: 5.5646e-10 - accuracy: 1.0000 - val_loss: 1.6054e-09 - val_accuracy: 1.0000\n",
            "Epoch 60/200\n",
            "70/70 [==============================] - 0s 1ms/step - loss: 4.5018e-10 - accuracy: 1.0000 - val_loss: 1.3474e-09 - val_accuracy: 1.0000\n",
            "Epoch 61/200\n",
            "70/70 [==============================] - 0s 1ms/step - loss: 4.5160e-10 - accuracy: 1.0000 - val_loss: 1.2183e-09 - val_accuracy: 1.0000\n",
            "Epoch 62/200\n",
            "70/70 [==============================] - 0s 1ms/step - loss: 4.7003e-10 - accuracy: 1.0000 - val_loss: 1.1831e-09 - val_accuracy: 1.0000\n",
            "Epoch 63/200\n",
            "70/70 [==============================] - 0s 1ms/step - loss: 4.7408e-10 - accuracy: 1.0000 - val_loss: 1.0931e-09 - val_accuracy: 1.0000\n",
            "Epoch 64/200\n",
            "70/70 [==============================] - 0s 1ms/step - loss: 5.0006e-10 - accuracy: 1.0000 - val_loss: 1.0318e-09 - val_accuracy: 1.0000\n",
            "Epoch 65/200\n",
            "70/70 [==============================] - 0s 1ms/step - loss: 5.2413e-10 - accuracy: 1.0000 - val_loss: 1.0436e-09 - val_accuracy: 1.0000\n",
            "Epoch 66/200\n",
            "70/70 [==============================] - 0s 1ms/step - loss: 5.4258e-10 - accuracy: 1.0000 - val_loss: 1.0099e-09 - val_accuracy: 1.0000\n",
            "Epoch 67/200\n",
            "70/70 [==============================] - 0s 1ms/step - loss: 5.5705e-10 - accuracy: 1.0000 - val_loss: 9.7615e-10 - val_accuracy: 1.0000\n",
            "Epoch 68/200\n",
            "70/70 [==============================] - 0s 1ms/step - loss: 5.1648e-10 - accuracy: 1.0000 - val_loss: 2.8897e-09 - val_accuracy: 1.0000\n",
            "Epoch 69/200\n",
            "70/70 [==============================] - 0s 1ms/step - loss: 4.0536e-10 - accuracy: 1.0000 - val_loss: 2.0451e-09 - val_accuracy: 1.0000\n",
            "Epoch 70/200\n",
            "70/70 [==============================] - 0s 1ms/step - loss: 3.8706e-10 - accuracy: 1.0000 - val_loss: 1.7075e-09 - val_accuracy: 1.0000\n",
            "Epoch 71/200\n",
            "70/70 [==============================] - 0s 1ms/step - loss: 3.9806e-10 - accuracy: 1.0000 - val_loss: 1.4345e-09 - val_accuracy: 1.0000\n",
            "Epoch 72/200\n",
            "70/70 [==============================] - 0s 1ms/step - loss: 3.9510e-10 - accuracy: 1.0000 - val_loss: 1.3403e-09 - val_accuracy: 1.0000\n",
            "Epoch 73/200\n",
            "70/70 [==============================] - 0s 1ms/step - loss: 4.0816e-10 - accuracy: 1.0000 - val_loss: 1.2874e-09 - val_accuracy: 1.0000\n",
            "Epoch 74/200\n",
            "70/70 [==============================] - 0s 1ms/step - loss: 4.1385e-10 - accuracy: 1.0000 - val_loss: 1.2080e-09 - val_accuracy: 1.0000\n",
            "Epoch 75/200\n",
            "70/70 [==============================] - 0s 1ms/step - loss: 4.1993e-10 - accuracy: 1.0000 - val_loss: 1.1626e-09 - val_accuracy: 1.0000\n",
            "Epoch 76/200\n",
            "70/70 [==============================] - 0s 2ms/step - loss: 4.3870e-10 - accuracy: 1.0000 - val_loss: 1.1390e-09 - val_accuracy: 1.0000\n",
            "Epoch 77/200\n",
            "70/70 [==============================] - 0s 2ms/step - loss: 4.0376e-10 - accuracy: 1.0000 - val_loss: 1.0328e-09 - val_accuracy: 1.0000\n",
            "Epoch 78/200\n",
            "70/70 [==============================] - 0s 2ms/step - loss: 3.3357e-10 - accuracy: 1.0000 - val_loss: 1.0765e-09 - val_accuracy: 1.0000\n",
            "Epoch 79/200\n",
            "70/70 [==============================] - 0s 1ms/step - loss: 3.2760e-10 - accuracy: 1.0000 - val_loss: 1.1391e-09 - val_accuracy: 1.0000\n",
            "Epoch 80/200\n",
            "70/70 [==============================] - 0s 1ms/step - loss: 3.3881e-10 - accuracy: 1.0000 - val_loss: 1.1673e-09 - val_accuracy: 1.0000\n",
            "Epoch 81/200\n",
            "70/70 [==============================] - 0s 1ms/step - loss: 3.4020e-10 - accuracy: 1.0000 - val_loss: 1.1434e-09 - val_accuracy: 1.0000\n",
            "Epoch 82/200\n",
            "70/70 [==============================] - 0s 1ms/step - loss: 3.5866e-10 - accuracy: 1.0000 - val_loss: 1.1675e-09 - val_accuracy: 1.0000\n",
            "Epoch 83/200\n",
            "70/70 [==============================] - 0s 1ms/step - loss: 3.5932e-10 - accuracy: 1.0000 - val_loss: 1.1709e-09 - val_accuracy: 1.0000\n",
            "Epoch 84/200\n",
            "70/70 [==============================] - 0s 1ms/step - loss: 3.8458e-10 - accuracy: 1.0000 - val_loss: 9.5557e-10 - val_accuracy: 1.0000\n",
            "Epoch 85/200\n",
            "70/70 [==============================] - 0s 1ms/step - loss: 4.1061e-10 - accuracy: 1.0000 - val_loss: 1.0437e-09 - val_accuracy: 1.0000\n",
            "Epoch 86/200\n",
            "70/70 [==============================] - 0s 1ms/step - loss: 4.1344e-10 - accuracy: 1.0000 - val_loss: 8.7095e-10 - val_accuracy: 1.0000\n",
            "Epoch 87/200\n",
            "70/70 [==============================] - 0s 1ms/step - loss: 4.4225e-10 - accuracy: 1.0000 - val_loss: 9.3237e-10 - val_accuracy: 1.0000\n",
            "Epoch 88/200\n",
            "70/70 [==============================] - 0s 1ms/step - loss: 4.6117e-10 - accuracy: 1.0000 - val_loss: 7.9105e-10 - val_accuracy: 1.0000\n",
            "Epoch 89/200\n",
            "70/70 [==============================] - 0s 1ms/step - loss: 5.1085e-10 - accuracy: 1.0000 - val_loss: 2.0674e-09 - val_accuracy: 1.0000\n",
            "Epoch 90/200\n",
            "70/70 [==============================] - 0s 1ms/step - loss: 4.2390e-10 - accuracy: 1.0000 - val_loss: 1.4258e-09 - val_accuracy: 1.0000\n",
            "Epoch 91/200\n",
            "70/70 [==============================] - 0s 1ms/step - loss: 4.0839e-10 - accuracy: 1.0000 - val_loss: 1.0832e-09 - val_accuracy: 1.0000\n",
            "Epoch 92/200\n",
            "70/70 [==============================] - 0s 1ms/step - loss: 4.0683e-10 - accuracy: 1.0000 - val_loss: 8.7251e-10 - val_accuracy: 1.0000\n",
            "Epoch 93/200\n",
            "70/70 [==============================] - 0s 1ms/step - loss: 4.1205e-10 - accuracy: 1.0000 - val_loss: 7.2927e-10 - val_accuracy: 1.0000\n",
            "Epoch 94/200\n",
            "70/70 [==============================] - 0s 1ms/step - loss: 4.3271e-10 - accuracy: 1.0000 - val_loss: 6.2484e-10 - val_accuracy: 1.0000\n",
            "Epoch 95/200\n",
            "70/70 [==============================] - 0s 1ms/step - loss: 4.1913e-10 - accuracy: 1.0000 - val_loss: 6.4024e-10 - val_accuracy: 1.0000\n",
            "Epoch 96/200\n",
            "70/70 [==============================] - 0s 1ms/step - loss: 3.1890e-10 - accuracy: 1.0000 - val_loss: 5.6279e-10 - val_accuracy: 1.0000\n",
            "Epoch 97/200\n",
            "70/70 [==============================] - 0s 1ms/step - loss: 3.4466e-10 - accuracy: 1.0000 - val_loss: 4.9971e-10 - val_accuracy: 1.0000\n",
            "Epoch 98/200\n",
            "70/70 [==============================] - 0s 1ms/step - loss: 4.1183e-10 - accuracy: 1.0000 - val_loss: 1.7998e-09 - val_accuracy: 1.0000\n",
            "Epoch 99/200\n",
            "70/70 [==============================] - 0s 1ms/step - loss: 3.2090e-10 - accuracy: 1.0000 - val_loss: 1.2398e-09 - val_accuracy: 1.0000\n",
            "Epoch 100/200\n",
            "70/70 [==============================] - 0s 1ms/step - loss: 3.0881e-10 - accuracy: 1.0000 - val_loss: 9.2573e-10 - val_accuracy: 1.0000\n",
            "Epoch 101/200\n",
            "70/70 [==============================] - 0s 1ms/step - loss: 3.0428e-10 - accuracy: 1.0000 - val_loss: 7.3929e-10 - val_accuracy: 1.0000\n",
            "Epoch 102/200\n",
            "70/70 [==============================] - 0s 1ms/step - loss: 3.0335e-10 - accuracy: 1.0000 - val_loss: 6.1446e-10 - val_accuracy: 1.0000\n",
            "Epoch 103/200\n",
            "70/70 [==============================] - 0s 1ms/step - loss: 3.1194e-10 - accuracy: 1.0000 - val_loss: 5.2594e-10 - val_accuracy: 1.0000\n",
            "Epoch 104/200\n",
            "70/70 [==============================] - 0s 1ms/step - loss: 3.1987e-10 - accuracy: 1.0000 - val_loss: 4.5961e-10 - val_accuracy: 1.0000\n",
            "Epoch 105/200\n",
            "70/70 [==============================] - 0s 1ms/step - loss: 3.3094e-10 - accuracy: 1.0000 - val_loss: 4.0794e-10 - val_accuracy: 1.0000\n",
            "Epoch 106/200\n",
            "70/70 [==============================] - 0s 1ms/step - loss: 3.4725e-10 - accuracy: 1.0000 - val_loss: 4.7002e-10 - val_accuracy: 1.0000\n",
            "Epoch 107/200\n",
            "70/70 [==============================] - 0s 1ms/step - loss: 3.5083e-10 - accuracy: 1.0000 - val_loss: 4.1809e-10 - val_accuracy: 1.0000\n",
            "Epoch 108/200\n",
            "70/70 [==============================] - 0s 2ms/step - loss: 3.6746e-10 - accuracy: 1.0000 - val_loss: 3.7630e-10 - val_accuracy: 1.0000\n",
            "Epoch 109/200\n",
            "70/70 [==============================] - 0s 1ms/step - loss: 3.8416e-10 - accuracy: 1.0000 - val_loss: 3.4207e-10 - val_accuracy: 1.0000\n",
            "Epoch 110/200\n",
            "70/70 [==============================] - 0s 1ms/step - loss: 3.9163e-10 - accuracy: 1.0000 - val_loss: 4.0037e-10 - val_accuracy: 1.0000\n",
            "Epoch 111/200\n",
            "70/70 [==============================] - 0s 1ms/step - loss: 4.0724e-10 - accuracy: 1.0000 - val_loss: 3.6313e-10 - val_accuracy: 1.0000\n",
            "Epoch 112/200\n",
            "70/70 [==============================] - 0s 1ms/step - loss: 4.3707e-10 - accuracy: 1.0000 - val_loss: 3.1046e-10 - val_accuracy: 1.0000\n",
            "Epoch 113/200\n",
            "70/70 [==============================] - 0s 1ms/step - loss: 2.9458e-10 - accuracy: 1.0000 - val_loss: 2.8834e-10 - val_accuracy: 1.0000\n",
            "Epoch 114/200\n",
            "70/70 [==============================] - 0s 1ms/step - loss: 3.1697e-10 - accuracy: 1.0000 - val_loss: 9.9323e-10 - val_accuracy: 1.0000\n",
            "Epoch 115/200\n",
            "70/70 [==============================] - 0s 1ms/step - loss: 2.5344e-10 - accuracy: 1.0000 - val_loss: 7.3800e-10 - val_accuracy: 1.0000\n",
            "Epoch 116/200\n",
            "70/70 [==============================] - 0s 1ms/step - loss: 2.4593e-10 - accuracy: 1.0000 - val_loss: 5.8621e-10 - val_accuracy: 1.0000\n",
            "Epoch 117/200\n",
            "70/70 [==============================] - 0s 2ms/step - loss: 2.4384e-10 - accuracy: 1.0000 - val_loss: 4.8782e-10 - val_accuracy: 1.0000\n",
            "Epoch 118/200\n",
            "70/70 [==============================] - 0s 1ms/step - loss: 2.4527e-10 - accuracy: 1.0000 - val_loss: 4.1896e-10 - val_accuracy: 1.0000\n",
            "Epoch 119/200\n",
            "70/70 [==============================] - 0s 1ms/step - loss: 2.4815e-10 - accuracy: 1.0000 - val_loss: 3.6711e-10 - val_accuracy: 1.0000\n",
            "Epoch 120/200\n",
            "70/70 [==============================] - 0s 1ms/step - loss: 2.4999e-10 - accuracy: 1.0000 - val_loss: 3.2757e-10 - val_accuracy: 1.0000\n",
            "Epoch 121/200\n",
            "70/70 [==============================] - 0s 1ms/step - loss: 2.5559e-10 - accuracy: 1.0000 - val_loss: 2.9618e-10 - val_accuracy: 1.0000\n",
            "Epoch 122/200\n",
            "70/70 [==============================] - 0s 1ms/step - loss: 2.6198e-10 - accuracy: 1.0000 - val_loss: 2.7065e-10 - val_accuracy: 1.0000\n",
            "Epoch 123/200\n",
            "70/70 [==============================] - 0s 1ms/step - loss: 2.6869e-10 - accuracy: 1.0000 - val_loss: 2.4936e-10 - val_accuracy: 1.0000\n",
            "Epoch 124/200\n",
            "70/70 [==============================] - 0s 1ms/step - loss: 2.8058e-10 - accuracy: 1.0000 - val_loss: 2.3147e-10 - val_accuracy: 1.0000\n",
            "Epoch 125/200\n",
            "70/70 [==============================] - 0s 1ms/step - loss: 2.8485e-10 - accuracy: 1.0000 - val_loss: 2.7440e-10 - val_accuracy: 1.0000\n",
            "Epoch 126/200\n",
            "70/70 [==============================] - 0s 1ms/step - loss: 2.9050e-10 - accuracy: 1.0000 - val_loss: 2.5295e-10 - val_accuracy: 1.0000\n",
            "Epoch 127/200\n",
            "70/70 [==============================] - 0s 2ms/step - loss: 2.9916e-10 - accuracy: 1.0000 - val_loss: 2.3498e-10 - val_accuracy: 1.0000\n",
            "Epoch 128/200\n",
            "70/70 [==============================] - 0s 1ms/step - loss: 3.1027e-10 - accuracy: 1.0000 - val_loss: 2.1959e-10 - val_accuracy: 1.0000\n",
            "Epoch 129/200\n",
            "70/70 [==============================] - 0s 1ms/step - loss: 3.2500e-10 - accuracy: 1.0000 - val_loss: 2.0629e-10 - val_accuracy: 1.0000\n",
            "Epoch 130/200\n",
            "70/70 [==============================] - 0s 1ms/step - loss: 3.3578e-10 - accuracy: 1.0000 - val_loss: 1.9469e-10 - val_accuracy: 1.0000\n",
            "Epoch 131/200\n",
            "70/70 [==============================] - 0s 1ms/step - loss: 3.3959e-10 - accuracy: 1.0000 - val_loss: 2.2957e-10 - val_accuracy: 1.0000\n",
            "Epoch 132/200\n",
            "70/70 [==============================] - 0s 1ms/step - loss: 3.4156e-10 - accuracy: 1.0000 - val_loss: 2.1520e-10 - val_accuracy: 1.0000\n",
            "Epoch 133/200\n",
            "70/70 [==============================] - 0s 1ms/step - loss: 3.5899e-10 - accuracy: 1.0000 - val_loss: 2.0281e-10 - val_accuracy: 1.0000\n",
            "Epoch 134/200\n",
            "70/70 [==============================] - 0s 1ms/step - loss: 3.7682e-10 - accuracy: 1.0000 - val_loss: 1.9191e-10 - val_accuracy: 1.0000\n",
            "Epoch 135/200\n",
            "70/70 [==============================] - 0s 1ms/step - loss: 3.9296e-10 - accuracy: 1.0000 - val_loss: 1.8231e-10 - val_accuracy: 1.0000\n",
            "Epoch 136/200\n",
            "70/70 [==============================] - 0s 1ms/step - loss: 4.1004e-10 - accuracy: 1.0000 - val_loss: 1.7377e-10 - val_accuracy: 1.0000\n",
            "Epoch 137/200\n",
            "70/70 [==============================] - 0s 1ms/step - loss: 4.0896e-10 - accuracy: 1.0000 - val_loss: 5.4626e-10 - val_accuracy: 1.0000\n",
            "Epoch 138/200\n",
            "70/70 [==============================] - 0s 1ms/step - loss: 2.7467e-10 - accuracy: 1.0000 - val_loss: 3.7707e-10 - val_accuracy: 1.0000\n",
            "Epoch 139/200\n",
            "70/70 [==============================] - 0s 1ms/step - loss: 1.7980e-10 - accuracy: 1.0000 - val_loss: 3.2772e-10 - val_accuracy: 1.0000\n",
            "Epoch 140/200\n",
            "70/70 [==============================] - 0s 1ms/step - loss: 1.8051e-10 - accuracy: 1.0000 - val_loss: 2.9044e-10 - val_accuracy: 1.0000\n",
            "Epoch 141/200\n",
            "70/70 [==============================] - 0s 1ms/step - loss: 1.8430e-10 - accuracy: 1.0000 - val_loss: 2.6144e-10 - val_accuracy: 1.0000\n",
            "Epoch 142/200\n",
            "70/70 [==============================] - 0s 1ms/step - loss: 1.8664e-10 - accuracy: 1.0000 - val_loss: 2.3816e-10 - val_accuracy: 1.0000\n",
            "Epoch 143/200\n",
            "70/70 [==============================] - 0s 1ms/step - loss: 1.9008e-10 - accuracy: 1.0000 - val_loss: 2.1920e-10 - val_accuracy: 1.0000\n",
            "Epoch 144/200\n",
            "70/70 [==============================] - 0s 1ms/step - loss: 1.9519e-10 - accuracy: 1.0000 - val_loss: 2.0338e-10 - val_accuracy: 1.0000\n",
            "Epoch 145/200\n",
            "70/70 [==============================] - 0s 1ms/step - loss: 2.0083e-10 - accuracy: 1.0000 - val_loss: 1.9001e-10 - val_accuracy: 1.0000\n",
            "Epoch 146/200\n",
            "70/70 [==============================] - 0s 1ms/step - loss: 2.0536e-10 - accuracy: 1.0000 - val_loss: 1.7846e-10 - val_accuracy: 1.0000\n",
            "Epoch 147/200\n",
            "70/70 [==============================] - 0s 1ms/step - loss: 2.1395e-10 - accuracy: 1.0000 - val_loss: 1.6846e-10 - val_accuracy: 1.0000\n",
            "Epoch 148/200\n",
            "70/70 [==============================] - 0s 1ms/step - loss: 2.2101e-10 - accuracy: 1.0000 - val_loss: 1.5979e-10 - val_accuracy: 1.0000\n",
            "Epoch 149/200\n",
            "70/70 [==============================] - 0s 1ms/step - loss: 2.2883e-10 - accuracy: 1.0000 - val_loss: 1.5215e-10 - val_accuracy: 1.0000\n",
            "Epoch 150/200\n",
            "70/70 [==============================] - 0s 2ms/step - loss: 2.4054e-10 - accuracy: 1.0000 - val_loss: 1.7861e-10 - val_accuracy: 1.0000\n",
            "Epoch 151/200\n",
            "70/70 [==============================] - 0s 1ms/step - loss: 2.2913e-10 - accuracy: 1.0000 - val_loss: 1.6875e-10 - val_accuracy: 1.0000\n",
            "Epoch 152/200\n",
            "70/70 [==============================] - 0s 1ms/step - loss: 2.3513e-10 - accuracy: 1.0000 - val_loss: 1.6013e-10 - val_accuracy: 1.0000\n",
            "Epoch 153/200\n",
            "70/70 [==============================] - 0s 1ms/step - loss: 2.4645e-10 - accuracy: 1.0000 - val_loss: 1.5257e-10 - val_accuracy: 1.0000\n",
            "Epoch 154/200\n",
            "70/70 [==============================] - 0s 1ms/step - loss: 2.5518e-10 - accuracy: 1.0000 - val_loss: 1.4583e-10 - val_accuracy: 1.0000\n",
            "Epoch 155/200\n",
            "70/70 [==============================] - 0s 1ms/step - loss: 2.6798e-10 - accuracy: 1.0000 - val_loss: 1.3982e-10 - val_accuracy: 1.0000\n",
            "Epoch 156/200\n",
            "70/70 [==============================] - 0s 1ms/step - loss: 2.7882e-10 - accuracy: 1.0000 - val_loss: 1.6527e-10 - val_accuracy: 1.0000\n",
            "Epoch 157/200\n",
            "70/70 [==============================] - 0s 1ms/step - loss: 2.5669e-10 - accuracy: 1.0000 - val_loss: 1.5725e-10 - val_accuracy: 1.0000\n",
            "Epoch 158/200\n",
            "70/70 [==============================] - 0s 1ms/step - loss: 2.6573e-10 - accuracy: 1.0000 - val_loss: 1.5009e-10 - val_accuracy: 1.0000\n",
            "Epoch 159/200\n",
            "70/70 [==============================] - 0s 1ms/step - loss: 2.7981e-10 - accuracy: 1.0000 - val_loss: 1.4371e-10 - val_accuracy: 1.0000\n",
            "Epoch 160/200\n",
            "70/70 [==============================] - 0s 1ms/step - loss: 2.9019e-10 - accuracy: 1.0000 - val_loss: 1.3801e-10 - val_accuracy: 1.0000\n",
            "Epoch 161/200\n",
            "70/70 [==============================] - 0s 1ms/step - loss: 3.0255e-10 - accuracy: 1.0000 - val_loss: 1.3285e-10 - val_accuracy: 1.0000\n",
            "Epoch 162/200\n",
            "70/70 [==============================] - 0s 1ms/step - loss: 3.2160e-10 - accuracy: 1.0000 - val_loss: 1.2821e-10 - val_accuracy: 1.0000\n",
            "Epoch 163/200\n",
            "70/70 [==============================] - 0s 2ms/step - loss: 3.3911e-10 - accuracy: 1.0000 - val_loss: 1.2399e-10 - val_accuracy: 1.0000\n",
            "Epoch 164/200\n",
            "70/70 [==============================] - 0s 1ms/step - loss: 3.2242e-10 - accuracy: 1.0000 - val_loss: 3.5506e-10 - val_accuracy: 1.0000\n",
            "Epoch 165/200\n",
            "70/70 [==============================] - 0s 1ms/step - loss: 2.6136e-10 - accuracy: 1.0000 - val_loss: 2.9937e-10 - val_accuracy: 1.0000\n",
            "Epoch 166/200\n",
            "70/70 [==============================] - 0s 1ms/step - loss: 2.5617e-10 - accuracy: 1.0000 - val_loss: 2.6055e-10 - val_accuracy: 1.0000\n",
            "Epoch 167/200\n",
            "70/70 [==============================] - 0s 1ms/step - loss: 2.5349e-10 - accuracy: 1.0000 - val_loss: 2.3177e-10 - val_accuracy: 1.0000\n",
            "Epoch 168/200\n",
            "70/70 [==============================] - 0s 1ms/step - loss: 2.5299e-10 - accuracy: 1.0000 - val_loss: 2.0971e-10 - val_accuracy: 1.0000\n",
            "Epoch 169/200\n",
            "70/70 [==============================] - 0s 1ms/step - loss: 2.5281e-10 - accuracy: 1.0000 - val_loss: 1.9210e-10 - val_accuracy: 1.0000\n",
            "Epoch 170/200\n",
            "70/70 [==============================] - 0s 1ms/step - loss: 2.5430e-10 - accuracy: 1.0000 - val_loss: 1.7777e-10 - val_accuracy: 1.0000\n",
            "Epoch 171/200\n",
            "70/70 [==============================] - 0s 1ms/step - loss: 2.5619e-10 - accuracy: 1.0000 - val_loss: 1.6591e-10 - val_accuracy: 1.0000\n",
            "Epoch 172/200\n",
            "70/70 [==============================] - 0s 1ms/step - loss: 2.5683e-10 - accuracy: 1.0000 - val_loss: 1.5588e-10 - val_accuracy: 1.0000\n",
            "Epoch 173/200\n",
            "70/70 [==============================] - 0s 1ms/step - loss: 2.6108e-10 - accuracy: 1.0000 - val_loss: 1.4732e-10 - val_accuracy: 1.0000\n",
            "Epoch 174/200\n",
            "70/70 [==============================] - 0s 1ms/step - loss: 2.6342e-10 - accuracy: 1.0000 - val_loss: 1.3990e-10 - val_accuracy: 1.0000\n",
            "Epoch 175/200\n",
            "70/70 [==============================] - 0s 1ms/step - loss: 2.6523e-10 - accuracy: 1.0000 - val_loss: 1.3346e-10 - val_accuracy: 1.0000\n",
            "Epoch 176/200\n",
            "70/70 [==============================] - 0s 1ms/step - loss: 2.7042e-10 - accuracy: 1.0000 - val_loss: 1.2778e-10 - val_accuracy: 1.0000\n",
            "Epoch 177/200\n",
            "70/70 [==============================] - 0s 1ms/step - loss: 2.7627e-10 - accuracy: 1.0000 - val_loss: 1.2275e-10 - val_accuracy: 1.0000\n",
            "Epoch 178/200\n",
            "70/70 [==============================] - 0s 1ms/step - loss: 2.8007e-10 - accuracy: 1.0000 - val_loss: 1.1827e-10 - val_accuracy: 1.0000\n",
            "Epoch 179/200\n",
            "70/70 [==============================] - 0s 1ms/step - loss: 2.8653e-10 - accuracy: 1.0000 - val_loss: 1.1423e-10 - val_accuracy: 1.0000\n",
            "Epoch 180/200\n",
            "70/70 [==============================] - 0s 1ms/step - loss: 2.9438e-10 - accuracy: 1.0000 - val_loss: 1.1060e-10 - val_accuracy: 1.0000\n",
            "Epoch 181/200\n",
            "70/70 [==============================] - 0s 1ms/step - loss: 2.9921e-10 - accuracy: 1.0000 - val_loss: 1.0731e-10 - val_accuracy: 1.0000\n",
            "Epoch 182/200\n",
            "70/70 [==============================] - 0s 1ms/step - loss: 3.0659e-10 - accuracy: 1.0000 - val_loss: 1.2421e-10 - val_accuracy: 1.0000\n",
            "Epoch 183/200\n",
            "70/70 [==============================] - 0s 1ms/step - loss: 3.0179e-10 - accuracy: 1.0000 - val_loss: 1.1970e-10 - val_accuracy: 1.0000\n",
            "Epoch 184/200\n",
            "70/70 [==============================] - 0s 1ms/step - loss: 3.0522e-10 - accuracy: 1.0000 - val_loss: 1.1565e-10 - val_accuracy: 1.0000\n",
            "Epoch 185/200\n",
            "70/70 [==============================] - 0s 1ms/step - loss: 3.1418e-10 - accuracy: 1.0000 - val_loss: 1.1198e-10 - val_accuracy: 1.0000\n",
            "Epoch 186/200\n",
            "70/70 [==============================] - 0s 1ms/step - loss: 3.2078e-10 - accuracy: 1.0000 - val_loss: 1.0865e-10 - val_accuracy: 1.0000\n",
            "Epoch 187/200\n",
            "70/70 [==============================] - 0s 1ms/step - loss: 3.2874e-10 - accuracy: 1.0000 - val_loss: 1.0562e-10 - val_accuracy: 1.0000\n",
            "Epoch 188/200\n",
            "70/70 [==============================] - 0s 1ms/step - loss: 3.3574e-10 - accuracy: 1.0000 - val_loss: 1.0286e-10 - val_accuracy: 1.0000\n",
            "Epoch 189/200\n",
            "70/70 [==============================] - 0s 1ms/step - loss: 2.9445e-10 - accuracy: 1.0000 - val_loss: 9.2874e-11 - val_accuracy: 1.0000\n",
            "Epoch 190/200\n",
            "70/70 [==============================] - 0s 1ms/step - loss: 2.0907e-10 - accuracy: 1.0000 - val_loss: 9.0880e-11 - val_accuracy: 1.0000\n",
            "Epoch 191/200\n",
            "70/70 [==============================] - 0s 1ms/step - loss: 2.2027e-10 - accuracy: 1.0000 - val_loss: 8.9010e-11 - val_accuracy: 1.0000\n",
            "Epoch 192/200\n",
            "70/70 [==============================] - 0s 1ms/step - loss: 2.2621e-10 - accuracy: 1.0000 - val_loss: 8.7272e-11 - val_accuracy: 1.0000\n",
            "Epoch 193/200\n",
            "70/70 [==============================] - 0s 1ms/step - loss: 2.2765e-10 - accuracy: 1.0000 - val_loss: 9.9715e-11 - val_accuracy: 1.0000\n",
            "Epoch 194/200\n",
            "70/70 [==============================] - 0s 1ms/step - loss: 2.0540e-10 - accuracy: 1.0000 - val_loss: 9.7144e-11 - val_accuracy: 1.0000\n",
            "Epoch 195/200\n",
            "70/70 [==============================] - 0s 1ms/step - loss: 2.1307e-10 - accuracy: 1.0000 - val_loss: 9.4765e-11 - val_accuracy: 1.0000\n",
            "Epoch 196/200\n",
            "70/70 [==============================] - 0s 1ms/step - loss: 2.1983e-10 - accuracy: 1.0000 - val_loss: 9.2560e-11 - val_accuracy: 1.0000\n",
            "Epoch 197/200\n",
            "70/70 [==============================] - 0s 2ms/step - loss: 2.2951e-10 - accuracy: 1.0000 - val_loss: 9.0511e-11 - val_accuracy: 1.0000\n",
            "Epoch 198/200\n",
            "70/70 [==============================] - 0s 1ms/step - loss: 2.3815e-10 - accuracy: 1.0000 - val_loss: 8.8609e-11 - val_accuracy: 1.0000\n",
            "Epoch 199/200\n",
            "70/70 [==============================] - 0s 2ms/step - loss: 2.4642e-10 - accuracy: 1.0000 - val_loss: 8.6833e-11 - val_accuracy: 1.0000\n",
            "Epoch 200/200\n",
            "70/70 [==============================] - 0s 1ms/step - loss: 2.5718e-10 - accuracy: 1.0000 - val_loss: 8.5186e-11 - val_accuracy: 1.0000\n"
          ],
          "name": "stdout"
        }
      ]
    },
    {
      "cell_type": "code",
      "metadata": {
        "id": "zpEV4KZukm7g",
        "colab_type": "code",
        "colab": {
          "base_uri": "https://localhost:8080/",
          "height": 51
        },
        "outputId": "7f107f26-2f01-4e6c-f336-6905e43d88ca"
      },
      "source": [
        "model.evaluate(X_test, y_test)"
      ],
      "execution_count": null,
      "outputs": [
        {
          "output_type": "stream",
          "text": [
            "7/7 [==============================] - 0s 2ms/step - loss: 1.6041e-07 - accuracy: 1.0000\n"
          ],
          "name": "stdout"
        },
        {
          "output_type": "execute_result",
          "data": {
            "text/plain": [
              "[1.6040534944750107e-07, 1.0]"
            ]
          },
          "metadata": {
            "tags": []
          },
          "execution_count": 16
        }
      ]
    },
    {
      "cell_type": "code",
      "metadata": {
        "id": "RHODeyNXtqUv",
        "colab_type": "code",
        "colab": {
          "base_uri": "https://localhost:8080/",
          "height": 295
        },
        "outputId": "da9a3bc7-8474-475f-8aed-13b7b9884f19"
      },
      "source": [
        "plt.plot(history.history['accuracy'])\n",
        "plt.plot(history.history['val_accuracy'])\n",
        "plt.title('Model Accuracy')\n",
        "plt.ylabel('accuracy')\n",
        "plt.xlabel('epoch')\n",
        "plt.legend(['Train', 'Validation'])\n",
        "plt.show()"
      ],
      "execution_count": null,
      "outputs": [
        {
          "output_type": "display_data",
          "data": {
            "image/png": "[encoded data removed]",
            "text/plain": [
              "<Figure size 432x288 with 1 Axes>"
            ]
          },
          "metadata": {
            "tags": [],
            "needs_background": "light"
          }
        }
      ]
    },
    {
      "cell_type": "code",
      "metadata": {
        "id": "RBUj3WFFsieV",
        "colab_type": "code",
        "colab": {
          "base_uri": "https://localhost:8080/",
          "height": 295
        },
        "outputId": "cee78aad-cf0c-44b3-b6ea-d5f017bf7007"
      },
      "source": [
        "plt.plot(history.history['loss'])\n",
        "plt.plot(history.history['val_loss'])\n",
        "plt.title('Model Loss')\n",
        "plt.ylabel('loss')\n",
        "plt.xlabel('epoch')\n",
        "plt.legend(['Train', 'Validation'])\n",
        "plt.show()"
      ],
      "execution_count": null,
      "outputs": [
        {
          "output_type": "display_data",
          "data": {
            "image/png": "[encoded data removed]",
            "text/plain": [
              "<Figure size 432x288 with 1 Axes>"
            ]
          },
          "metadata": {
            "tags": [],
            "needs_background": "light"
          }
        }
      ]
    },
    {
      "cell_type": "code",
      "metadata": {
        "id": "6sQqYoQQmKMY",
        "colab_type": "code",
        "colab": {}
      },
      "source": [
        "new_test_data = pd.read_csv('https://raw.githubusercontent.com/dphi-official/Datasets/master/bank_note_data/testing_set_label.csv')"
      ],
      "execution_count": null,
      "outputs": []
    },
    {
      "cell_type": "code",
      "metadata": {
        "id": "1_sDZi1lmKUP",
        "colab_type": "code",
        "colab": {}
      },
      "source": [
        "a = model.predict(new_test_data)"
      ],
      "execution_count": null,
      "outputs": []
    },
    {
      "cell_type": "code",
      "metadata": {
        "id": "6Tr97zONmKdD",
        "colab_type": "code",
        "colab": {
          "base_uri": "https://localhost:8080/",
          "height": 1000
        },
        "outputId": "9dead438-61a0-41aa-e3d2-5efd8e3711e5"
      },
      "source": [
        "z = [1 if i>= 0.5 else 0 for i in a]\n",
        "z"
      ],
      "execution_count": null,
      "outputs": [
        {
          "output_type": "execute_result",
          "data": {
            "text/plain": [
              "[1,\n",
              " 1,\n",
              " 0,\n",
              " 0,\n",
              " 0,\n",
              " 1,\n",
              " 1,\n",
              " 0,\n",
              " 1,\n",
              " 1,\n",
              " 0,\n",
              " 1,\n",
              " 0,\n",
              " 1,\n",
              " 0,\n",
              " 0,\n",
              " 0,\n",
              " 1,\n",
              " 0,\n",
              " 1,\n",
              " 1,\n",
              " 1,\n",
              " 0,\n",
              " 0,\n",
              " 0,\n",
              " 1,\n",
              " 0,\n",
              " 0,\n",
              " 1,\n",
              " 1,\n",
              " 1,\n",
              " 1,\n",
              " 0,\n",
              " 0,\n",
              " 0,\n",
              " 1,\n",
              " 1,\n",
              " 0,\n",
              " 0,\n",
              " 1,\n",
              " 1,\n",
              " 0,\n",
              " 1,\n",
              " 0,\n",
              " 1,\n",
              " 1,\n",
              " 1,\n",
              " 1,\n",
              " 0,\n",
              " 0,\n",
              " 1,\n",
              " 0,\n",
              " 1,\n",
              " 0,\n",
              " 1,\n",
              " 1,\n",
              " 1,\n",
              " 0,\n",
              " 0,\n",
              " 0,\n",
              " 0,\n",
              " 0,\n",
              " 0,\n",
              " 0,\n",
              " 0,\n",
              " 0,\n",
              " 1,\n",
              " 0,\n",
              " 0,\n",
              " 0,\n",
              " 1,\n",
              " 0,\n",
              " 0,\n",
              " 0,\n",
              " 0,\n",
              " 0,\n",
              " 0,\n",
              " 1,\n",
              " 1,\n",
              " 0,\n",
              " 1,\n",
              " 0,\n",
              " 0,\n",
              " 1,\n",
              " 1,\n",
              " 0,\n",
              " 0,\n",
              " 0,\n",
              " 1,\n",
              " 1,\n",
              " 1,\n",
              " 0,\n",
              " 1,\n",
              " 0,\n",
              " 0,\n",
              " 1,\n",
              " 0,\n",
              " 0,\n",
              " 0,\n",
              " 1,\n",
              " 1,\n",
              " 0,\n",
              " 1,\n",
              " 0,\n",
              " 0,\n",
              " 1,\n",
              " 0,\n",
              " 1,\n",
              " 1,\n",
              " 1,\n",
              " 0,\n",
              " 1,\n",
              " 0,\n",
              " 0,\n",
              " 1,\n",
              " 0,\n",
              " 0,\n",
              " 0,\n",
              " 0,\n",
              " 1,\n",
              " 1,\n",
              " 0,\n",
              " 0,\n",
              " 1,\n",
              " 1,\n",
              " 1,\n",
              " 0,\n",
              " 1,\n",
              " 1,\n",
              " 0,\n",
              " 1,\n",
              " 0,\n",
              " 0,\n",
              " 0,\n",
              " 1,\n",
              " 0,\n",
              " 0,\n",
              " 0,\n",
              " 0,\n",
              " 1,\n",
              " 1,\n",
              " 1,\n",
              " 1,\n",
              " 0,\n",
              " 0,\n",
              " 1,\n",
              " 1,\n",
              " 1,\n",
              " 0,\n",
              " 0,\n",
              " 0,\n",
              " 1,\n",
              " 0,\n",
              " 1,\n",
              " 0,\n",
              " 0,\n",
              " 0,\n",
              " 1,\n",
              " 1,\n",
              " 1,\n",
              " 1,\n",
              " 1,\n",
              " 1,\n",
              " 1,\n",
              " 0,\n",
              " 1,\n",
              " 1,\n",
              " 0,\n",
              " 0,\n",
              " 0,\n",
              " 0,\n",
              " 1,\n",
              " 1,\n",
              " 0,\n",
              " 1,\n",
              " 0,\n",
              " 0,\n",
              " 1,\n",
              " 1,\n",
              " 0,\n",
              " 0,\n",
              " 0,\n",
              " 0,\n",
              " 0,\n",
              " 1,\n",
              " 0,\n",
              " 1,\n",
              " 0,\n",
              " 1,\n",
              " 1,\n",
              " 0,\n",
              " 1,\n",
              " 0,\n",
              " 0,\n",
              " 0,\n",
              " 1,\n",
              " 0,\n",
              " 1,\n",
              " 1,\n",
              " 0,\n",
              " 0,\n",
              " 1,\n",
              " 0,\n",
              " 0,\n",
              " 1,\n",
              " 0,\n",
              " 0,\n",
              " 1,\n",
              " 0,\n",
              " 1,\n",
              " 1,\n",
              " 1,\n",
              " 0,\n",
              " 1,\n",
              " 0,\n",
              " 1,\n",
              " 1,\n",
              " 0,\n",
              " 0,\n",
              " 0,\n",
              " 1,\n",
              " 0,\n",
              " 1,\n",
              " 1,\n",
              " 0,\n",
              " 0,\n",
              " 0,\n",
              " 1,\n",
              " 0,\n",
              " 0,\n",
              " 0,\n",
              " 0,\n",
              " 1,\n",
              " 1,\n",
              " 0,\n",
              " 1,\n",
              " 0,\n",
              " 0,\n",
              " 0,\n",
              " 0,\n",
              " 0,\n",
              " 0,\n",
              " 0,\n",
              " 1,\n",
              " 0,\n",
              " 0,\n",
              " 1,\n",
              " 0,\n",
              " 1,\n",
              " 1,\n",
              " 0,\n",
              " 1,\n",
              " 0,\n",
              " 1,\n",
              " 1,\n",
              " 1,\n",
              " 1,\n",
              " 0,\n",
              " 0,\n",
              " 0,\n",
              " 1,\n",
              " 1,\n",
              " 0,\n",
              " 0,\n",
              " 1,\n",
              " 0,\n",
              " 0,\n",
              " 0,\n",
              " 0,\n",
              " 1,\n",
              " 1,\n",
              " 0,\n",
              " 0,\n",
              " 0,\n",
              " 0]"
            ]
          },
          "metadata": {
            "tags": []
          },
          "execution_count": 28
        }
      ]
    },
    {
      "cell_type": "code",
      "metadata": {
        "id": "pmLwp1Ckmw-2",
        "colab_type": "code",
        "colab": {}
      },
      "source": [
        "predictions = z"
      ],
      "execution_count": null,
      "outputs": []
    },
    {
      "cell_type": "code",
      "metadata": {
        "id": "qaR00h4svfpw",
        "colab_type": "code",
        "colab": {
          "base_uri": "https://localhost:8080/",
          "height": 17
        },
        "outputId": "23e7ef15-06ba-4506-ddcb-866ea4013351"
      },
      "source": [
        "res = pd.DataFrame(predictions) #preditcions are nothing but the final predictions of your model on input features of your new unseen test data\n",
        "res.index = new_test_data.index # its important for comparison. Here \"test_new\" is your new test dataset\n",
        "res.columns = [\"prediction\"]\n",
        "\n",
        "# To download the csv file locally\n",
        "from google.colab import files\n",
        "res.to_csv('prediction_results.csv')         \n",
        "files.download('prediction_results.csv')\n"
      ],
      "execution_count": null,
      "outputs": [
        {
          "output_type": "display_data",
          "data": {
            "application/javascript": [
              "\n",
              "    async function download(id, filename, size) {\n",
              "      if (!google.colab.kernel.accessAllowed) {\n",
              "        return;\n",
              "      }\n",
              "      const div = document.createElement('div');\n",
              "      const label = document.createElement('label');\n",
              "      label.textContent = `Downloading \"${filename}\": `;\n",
              "      div.appendChild(label);\n",
              "      const progress = document.createElement('progress');\n",
              "      progress.max = size;\n",
              "      div.appendChild(progress);\n",
              "      document.body.appendChild(div);\n",
              "\n",
              "      const buffers = [];\n",
              "      let downloaded = 0;\n",
              "\n",
              "      const channel = await google.colab.kernel.comms.open(id);\n",
              "      // Send a message to notify the kernel that we're ready.\n",
              "      channel.send({})\n",
              "\n",
              "      for await (const message of channel.messages) {\n",
              "        // Send a message to notify the kernel that we're ready.\n",
              "        channel.send({})\n",
              "        if (message.buffers) {\n",
              "          for (const buffer of message.buffers) {\n",
              "            buffers.push(buffer);\n",
              "            downloaded += buffer.byteLength;\n",
              "            progress.value = downloaded;\n",
              "          }\n",
              "        }\n",
              "      }\n",
              "      const blob = new Blob(buffers, {type: 'application/binary'});\n",
              "      const a = document.createElement('a');\n",
              "      a.href = window.URL.createObjectURL(blob);\n",
              "      a.download = filename;\n",
              "      div.appendChild(a);\n",
              "      a.click();\n",
              "      div.remove();\n",
              "    }\n",
              "  "
            ],
            "text/plain": [
              "<IPython.core.display.Javascript object>"
            ]
          },
          "metadata": {
            "tags": []
          }
        },
        {
          "output_type": "display_data",
          "data": {
            "application/javascript": [
              "download(\"download_dc347b76-dac0-4abf-97ef-ff7f0ae25028\", \"prediction_results.csv\", 1552)"
            ],
            "text/plain": [
              "<IPython.core.display.Javascript object>"
            ]
          },
          "metadata": {
            "tags": []
          }
        }
      ]
    },
    {
      "cell_type": "code",
      "metadata": {
        "id": "3tAmAI_q-mFP",
        "colab_type": "code",
        "colab": {}
      },
      "source": [
        ""
      ],
      "execution_count": null,
      "outputs": []
    }
  ]
}